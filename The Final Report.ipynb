{
    "cells": [
        {
            "cell_type": "markdown",
            "metadata": {
                "collapsed": true
            },
            "source": "### PROBLEM:  In this project, We will try to recommend ideal locations to open restaurant in specific Indian restaurant in Toronto city."
        },
        {
            "cell_type": "markdown",
            "metadata": {},
            "source": "#### DESCRIPTION: Location of restaurant plays a significant role in business's success. So, its crucial that we make right choice on deciding the location before we open up the business. Our research says that opening the restaurants near the compititors will not only gives us access to their excess customers but also a chance to prove our products quality. So we are going to look into the following key things to decide on the location. There are \"Locations with one or more restaurants\" , \"Locations with no Indian restaurants in the surroundings\" and \"Locations which are close to city center as possible\". Our target audience are people who wants to open indian restaurents in Toronto city."
        },
        {
            "cell_type": "markdown",
            "metadata": {},
            "source": "### Description of Data:   Based on the Bourough,Neighbourhood and the venue we will decide on potential locations to open Indian restaurent. For example, If the location is near the city center with one or more retaurants and with no indian restaurants in the vincity then thats the potential location we will suggest to the customer.\n\n#### * We will collect all the Totonto's boroughs and neighbourhoods Longitude and Latitude from the url: https://en.wikipedia.org/wiki/List_of_postal_codes_of_Canada:_M\n#### * The venues data will be fetched from the foursquareAPI."
        },
        {
            "cell_type": "code",
            "execution_count": null,
            "metadata": {},
            "outputs": [],
            "source": ""
        }
    ],
    "metadata": {
        "kernelspec": {
            "display_name": "Python 3.7",
            "language": "python",
            "name": "python3"
        },
        "language_info": {
            "codemirror_mode": {
                "name": "ipython",
                "version": 3
            },
            "file_extension": ".py",
            "mimetype": "text/x-python",
            "name": "python",
            "nbconvert_exporter": "python",
            "pygments_lexer": "ipython3",
            "version": "3.7.9"
        }
    },
    "nbformat": 4,
    "nbformat_minor": 1
}
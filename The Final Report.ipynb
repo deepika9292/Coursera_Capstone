{
    "cells": [
        {
            "cell_type": "markdown",
            "metadata": {
                "collapsed": true
            },
            "source": "### PROBLEM:  In this project, We will try to recommend ideal locations to open restaurant in specific Indian restaurant in Toronto city."
        },
        {
            "cell_type": "markdown",
            "metadata": {},
            "source": "#### DESCRIPTION: Location of restaurant plays a significant role in business's success. So, its crucial that we make right choice on deciding the location before we open up the business. We would suggest to open the restaurants near the compititor's as it not only gives us access to their excess customers but also a chance to prove our products quality. So we are going to look into key things to decide on the location. There are \"Locations with one or more restaurants\" , \"Locations with no Indian restaurants in the surroundings\" and \"Locations which are close to city center as possible\"."
        },
        {
            "cell_type": "markdown",
            "metadata": {},
            "source": "### Description of Data: Using the Toronto city's all areas Longitude and Latitude data and the venues data in specific restaurants data, we are going to finalize the outcome. \n\n\n#### Data will be extracted from \n#### * Toronto cities all areas Latitudes and Longitudes will be downloaed from local file as we already have it \n#### * The venues data will be fetched from the foursquareAPI."
        },
        {
            "cell_type": "code",
            "execution_count": null,
            "metadata": {},
            "outputs": [],
            "source": ""
        }
    ],
    "metadata": {
        "kernelspec": {
            "display_name": "Python 3.7",
            "language": "python",
            "name": "python3"
        },
        "language_info": {
            "codemirror_mode": {
                "name": "ipython",
                "version": 3
            },
            "file_extension": ".py",
            "mimetype": "text/x-python",
            "name": "python",
            "nbconvert_exporter": "python",
            "pygments_lexer": "ipython3",
            "version": "3.7.9"
        }
    },
    "nbformat": 4,
    "nbformat_minor": 1
}